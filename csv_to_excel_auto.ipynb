{
 "cells": [
  {
   "cell_type": "code",
   "execution_count": 3,
   "metadata": {},
   "outputs": [
    {
     "name": "stdout",
     "output_type": "stream",
     "text": [
      "csv 01 has been inserted\n",
      "csv 02 has been inserted\n",
      "Testing_data\n",
      "csv01\n",
      "csv02\n",
      "匯入202105_csv執行完畢，請手動存成202105_的檔案\n"
     ]
    }
   ],
   "source": [
    "import pandas as pd \n",
    "import win32com.client \n",
    "import xlwings as xw\n",
    "import csv\n",
    "\n",
    "#parameter\n",
    "#cmonth like 202012_ / 202101_ ....\n",
    "cmonth = '202105_'\n",
    "#the workbook path\n",
    "workbook_path=r'C:\\Users\\gccbn50205\\Desktop\\csv_to_excel.xlsx'\n",
    "\n",
    "#encoding depends on the csv source\n",
    "def csv_to_excelsheet(workbook_path,sheetname,csv_path):\n",
    "    df=[]\n",
    "    with open(csv_path, newline='', encoding='utf-8') as f:\n",
    "        reader = csv.reader(f)\n",
    "        for row in reader:\n",
    "            df.append(row)\n",
    "        wb = xw.Book(workbook_path)\n",
    "        sheet = wb.sheets[sheetname]\n",
    "        sheet.clear()\n",
    "        sheet.range('A1').value = df\n",
    "\n",
    "\n",
    "#csv 01\n",
    "csv_path = rf'C:\\Users\\gccbn50205\\Desktop\\monthly_csvdata\\{cmonth}01.csv'\n",
    "#print(csv_path)\n",
    "csv_to_excelsheet(workbook_path,'csv01',csv_path)\n",
    "print(\"csv 01 has been inserted\")\n",
    "\n",
    "#csv 02\n",
    "csv_path = rf'C:\\Users\\gccbn50205\\Desktop\\monthly_csvdata\\{cmonth}02.csv'\n",
    "#print(csv_path)\n",
    "csv_to_excelsheet(workbook_path,'csv02',csv_path)\n",
    "print(\"csv 02 has been inserted\")\n",
    "\n",
    "\n",
    "#Step2. change the order of worksheet\n",
    "#https://stackoverflow.com/questions/26935793/python-2-7-win32com-client-move-a-worksheet-from-one-workbook-to-another\n",
    "\n",
    "excel = win32com.client.Dispatch('Excel.Application')\n",
    "excel.Visible = True\n",
    "wb = excel.Workbooks.Open(Filename=workbook_path, ReadOnly='False')\n",
    "for worksheet in wb.Sheets:\n",
    "    print(worksheet.Name)\n",
    "    if worksheet.Name == \"Testing_data\":\n",
    "        worksheet.Move(Before=wb.Sheets(\"csv01\"))\n",
    "\n",
    "#refresh\n",
    "wb.RefreshAll() \n",
    "wb.Save()\n",
    "#wb.SaveAs(save_path)\n",
    "#wb.close()\n",
    "excel.Quit()\n",
    "print(rf\"匯入{cmonth}csv執行完畢，請手動存成{cmonth}的檔案\")\n",
    "\n",
    "#hiding worksheet\n",
    "#wb.Worksheets(\"Testing_data\").Visible = 2 # xlSheetVeryHidden\n"
   ]
  },
  {
   "cell_type": "code",
   "execution_count": null,
   "metadata": {},
   "outputs": [],
   "source": []
  }
 ],
 "metadata": {
  "kernelspec": {
   "display_name": "Python 3",
   "language": "python",
   "name": "python3"
  },
  "language_info": {
   "codemirror_mode": {
    "name": "ipython",
    "version": 3
   },
   "file_extension": ".py",
   "mimetype": "text/x-python",
   "name": "python",
   "nbconvert_exporter": "python",
   "pygments_lexer": "ipython3",
   "version": "3.8.8"
  }
 },
 "nbformat": 4,
 "nbformat_minor": 4
}
